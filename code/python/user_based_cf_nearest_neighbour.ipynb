{
 "cells": [
  {
   "cell_type": "code",
   "execution_count": 1,
   "metadata": {
    "collapsed": false
   },
   "outputs": [],
   "source": [
    "import numpy as np\n",
    "import pandas as pd\n",
    "from numpy import zeros"
   ]
  },
  {
   "cell_type": "code",
   "execution_count": 2,
   "metadata": {
    "collapsed": false
   },
   "outputs": [],
   "source": [
    "interactions = pd.read_csv('/home/sumit/recommendersystemchallenge/data/data/interactions.csv',header = 0,sep='\\t')"
   ]
  },
  {
   "cell_type": "code",
   "execution_count": null,
   "metadata": {
    "collapsed": false,
    "scrolled": true
   },
   "outputs": [],
   "source": [
    "print(interactions)"
   ]
  },
  {
   "cell_type": "code",
   "execution_count": 3,
   "metadata": {
    "collapsed": false
   },
   "outputs": [],
   "source": [
    "valid_interactions = interactions[interactions['interaction_type'].isin([1,2,3])]"
   ]
  },
  {
   "cell_type": "code",
   "execution_count": null,
   "metadata": {
    "collapsed": false
   },
   "outputs": [],
   "source": [
    "print(valid_interactions)"
   ]
  },
  {
   "cell_type": "code",
   "execution_count": null,
   "metadata": {
    "collapsed": false
   },
   "outputs": [],
   "source": [
    "groupby_object = valid_interactions[['user_id','item_id']].groupby(['user_id','item_id']).size().reset_index()\n",
    "print(groupby_object.columns)"
   ]
  },
  {
   "cell_type": "code",
   "execution_count": null,
   "metadata": {
    "collapsed": false
   },
   "outputs": [],
   "source": [
    "print(groupby_object)\n",
    "valuser1 =groupby_object[groupby_object['user_id']==9]\n",
    "print(valuser1)"
   ]
  },
  {
   "cell_type": "code",
   "execution_count": null,
   "metadata": {
    "collapsed": false
   },
   "outputs": [],
   "source": [
    "aggregated = valid_interactions[['user_id','item_id']].groupby(['user_id','item_id']).size()\n",
    "print(aggregated)\n",
    "aggregated.name = 'sum_values_A'\n",
    "rating_df = valid_interactions[['user_id','item_id']].join(aggregated,on=['user_id','item_id'])\n",
    "print(rating_df)"
   ]
  },
  {
   "cell_type": "code",
   "execution_count": null,
   "metadata": {
    "collapsed": false
   },
   "outputs": [],
   "source": [
    "print(rating_df.columns)"
   ]
  },
  {
   "cell_type": "code",
   "execution_count": null,
   "metadata": {
    "collapsed": false
   },
   "outputs": [],
   "source": [
    "valuser = rating_df[rating_df['user_id']==9]\n",
    "print(valuser)"
   ]
  },
  {
   "cell_type": "code",
   "execution_count": 4,
   "metadata": {
    "collapsed": false
   },
   "outputs": [
    {
     "name": "stdout",
     "output_type": "stream",
     "text": [
      "user_id  item_id\n",
      "7        1006839    1\n",
      "9        944146     3\n",
      "         1053485    1\n",
      "13       2444782    1\n",
      "23       501722     1\n",
      "         1305844    1\n",
      "28       252140     1\n",
      "         931378     1\n",
      "         1038508    1\n",
      "         1083127    1\n",
      "         1355617    1\n",
      "         1498879    1\n",
      "         1829243    1\n",
      "         2147279    1\n",
      "         2632139    1\n",
      "32       229230     1\n",
      "         427738     1\n",
      "         463466     1\n",
      "         675779     2\n",
      "         818742     1\n",
      "         1165605    1\n",
      "         1188981    1\n",
      "         1193267    1\n",
      "         1211765    1\n",
      "         1266493    1\n",
      "         1396595    1\n",
      "         1480817    1\n",
      "         1608417    1\n",
      "         1739776    1\n",
      "         1848060    1\n",
      "                   ..\n",
      "2984867  1189782    1\n",
      "         1195669    1\n",
      "         1199905    1\n",
      "         1206719    1\n",
      "         1254189    1\n",
      "         1325160    1\n",
      "         1379584    1\n",
      "         1434084    3\n",
      "         1494811    3\n",
      "         1506951    1\n",
      "         1677953    1\n",
      "         1814388    1\n",
      "         1963559    1\n",
      "         2158441    1\n",
      "         2278030    1\n",
      "         2287900    1\n",
      "         2381643    1\n",
      "2984875  918011     2\n",
      "2984876  27424      1\n",
      "         198108     1\n",
      "2984879  926054     1\n",
      "2984884  1143790    1\n",
      "         1394156    1\n",
      "         1810515    1\n",
      "         2268722    1\n",
      "2984885  213792     1\n",
      "         2027136    1\n",
      "         2432923    1\n",
      "2984887  2218278    1\n",
      "2984888  1706918    1\n",
      "dtype: int64\n",
      "         user_id  item_id  count\n",
      "0        1974005  2668706      1\n",
      "1        2690450   405777      1\n",
      "2        2690450  1180447      1\n",
      "3        2690450   136219      1\n",
      "4        2690450  1981683      1\n",
      "5        2690450   808291      1\n",
      "6        2690450  1803133      1\n",
      "7        2081252   169933      1\n",
      "8        2081252   805572      1\n",
      "9         732722  1266442      1\n",
      "10        687093  2651366      1\n",
      "11        687093   506526      1\n",
      "12        687093  2347212      1\n",
      "13        687093  2274341      1\n",
      "14        687093  1771822      1\n",
      "15        687093  1277697      1\n",
      "16        687093  1271361      3\n",
      "19        687093  1007923      1\n",
      "20        687093  1111880      1\n",
      "21        687093  1053452      2\n",
      "23       1731019  1564621      1\n",
      "24       1731019   265291      1\n",
      "25       1731019  2826796      1\n",
      "26       1731019  2547494      1\n",
      "27       1731019  2397541      2\n",
      "28       1731019  1593702      1\n",
      "29       1731019  1860035      1\n",
      "47       1536108  1009724      1\n",
      "48        523641   438584      1\n",
      "49        523641   926150      1\n",
      "...          ...      ...    ...\n",
      "8826644  2642991   122430      1\n",
      "8826645   665405   655223      1\n",
      "8826646   665405   466597      1\n",
      "8826647   665405   445449      1\n",
      "8826648   665405   435784      1\n",
      "8826649   665405   326608      1\n",
      "8826650   665405   209887      1\n",
      "8826651   665405    67424      1\n",
      "8826652   665405  2667112      1\n",
      "8826653   665405  2323081      1\n",
      "8826654   665405  2235860      2\n",
      "8826655   665405  2206328      1\n",
      "8826656   665405  1809682      1\n",
      "8826657   665405  1751148      1\n",
      "8826658   665405  1585126      1\n",
      "8826659   665405  1459296      1\n",
      "8826660   665405  1365824      2\n",
      "8826661   665405  1809852      1\n",
      "8826662   665405   851897      1\n",
      "8826663   665405   694674      1\n",
      "8826664   665405  2234958      1\n",
      "8826666   665405  2511002      1\n",
      "8826668   665405  2236229      1\n",
      "8826669   665405   309333      1\n",
      "8826670  1980761  2665211      2\n",
      "8826671  1980761  1211809      2\n",
      "8826673  1980761    19709      1\n",
      "8826675  1980761  2223797      1\n",
      "8826676  1776387  1254189      1\n",
      "8826677  1776387  1280641      1\n",
      "\n",
      "[5976532 rows x 3 columns]\n"
     ]
    }
   ],
   "source": [
    "aggregated = valid_interactions[['user_id','item_id']].groupby(['user_id','item_id'],as_index = False).size()\n",
    "print(aggregated)\n",
    "aggregated.name = 'count'\n",
    "rating_df = valid_interactions[['user_id','item_id']].join(aggregated,on=['user_id','item_id'])\n",
    "rating_df = rating_df.drop_duplicates()\n",
    "print(rating_df)"
   ]
  },
  {
   "cell_type": "code",
   "execution_count": 18,
   "metadata": {
    "collapsed": false
   },
   "outputs": [
    {
     "name": "stdout",
     "output_type": "stream",
     "text": [
      "770859\n",
      "1002161\n"
     ]
    }
   ],
   "source": [
    "unique_users = pd.unique(rating_df.user_id.ravel()).size\n",
    "unique_items = pd.unique(rating_df.item_id.ravel()).size\n",
    "print(unique_users)\n",
    "print(unique_items)\n",
    "\n"
   ]
  },
  {
   "cell_type": "code",
   "execution_count": 5,
   "metadata": {
    "collapsed": false
   },
   "outputs": [],
   "source": [
    "def pivotarray(df):\n",
    "    users,i= np.unique(df['user_id'],return_inverse=True)\n",
    "    item,j= np.unique(df['item_id'],return_inverse=True)\n",
    "    a=zeros((len(users),len(item)),int)\n",
    "    a[i,j]=df['count']\n",
    "    return a"
   ]
  },
  {
   "cell_type": "code",
   "execution_count": 6,
   "metadata": {
    "collapsed": false
   },
   "outputs": [
    {
     "ename": "MemoryError",
     "evalue": "",
     "output_type": "error",
     "traceback": [
      "\u001b[1;31m---------------------------------------------------------------------------\u001b[0m",
      "\u001b[1;31mMemoryError\u001b[0m                               Traceback (most recent call last)",
      "\u001b[1;32m<ipython-input-6-ad3082082e2e>\u001b[0m in \u001b[0;36m<module>\u001b[1;34m()\u001b[0m\n\u001b[1;32m----> 1\u001b[1;33m \u001b[0mpivotarray\u001b[0m\u001b[1;33m(\u001b[0m\u001b[0mrating_df\u001b[0m\u001b[1;33m)\u001b[0m\u001b[1;33m\u001b[0m\u001b[0m\n\u001b[0m",
      "\u001b[1;32m<ipython-input-5-7b52cf11b5a5>\u001b[0m in \u001b[0;36mpivotarray\u001b[1;34m(df)\u001b[0m\n\u001b[0;32m      2\u001b[0m     \u001b[0musers\u001b[0m\u001b[1;33m,\u001b[0m\u001b[0mi\u001b[0m\u001b[1;33m=\u001b[0m \u001b[0mnp\u001b[0m\u001b[1;33m.\u001b[0m\u001b[0munique\u001b[0m\u001b[1;33m(\u001b[0m\u001b[0mdf\u001b[0m\u001b[1;33m[\u001b[0m\u001b[1;34m'user_id'\u001b[0m\u001b[1;33m]\u001b[0m\u001b[1;33m,\u001b[0m\u001b[0mreturn_inverse\u001b[0m\u001b[1;33m=\u001b[0m\u001b[1;32mTrue\u001b[0m\u001b[1;33m)\u001b[0m\u001b[1;33m\u001b[0m\u001b[0m\n\u001b[0;32m      3\u001b[0m     \u001b[0mitem\u001b[0m\u001b[1;33m,\u001b[0m\u001b[0mj\u001b[0m\u001b[1;33m=\u001b[0m \u001b[0mnp\u001b[0m\u001b[1;33m.\u001b[0m\u001b[0munique\u001b[0m\u001b[1;33m(\u001b[0m\u001b[0mdf\u001b[0m\u001b[1;33m[\u001b[0m\u001b[1;34m'item_id'\u001b[0m\u001b[1;33m]\u001b[0m\u001b[1;33m,\u001b[0m\u001b[0mreturn_inverse\u001b[0m\u001b[1;33m=\u001b[0m\u001b[1;32mTrue\u001b[0m\u001b[1;33m)\u001b[0m\u001b[1;33m\u001b[0m\u001b[0m\n\u001b[1;32m----> 4\u001b[1;33m     \u001b[0ma\u001b[0m\u001b[1;33m=\u001b[0m\u001b[0mzeros\u001b[0m\u001b[1;33m(\u001b[0m\u001b[1;33m(\u001b[0m\u001b[0mlen\u001b[0m\u001b[1;33m(\u001b[0m\u001b[0musers\u001b[0m\u001b[1;33m)\u001b[0m\u001b[1;33m,\u001b[0m\u001b[0mlen\u001b[0m\u001b[1;33m(\u001b[0m\u001b[0mitem\u001b[0m\u001b[1;33m)\u001b[0m\u001b[1;33m)\u001b[0m\u001b[1;33m,\u001b[0m\u001b[0mint\u001b[0m\u001b[1;33m)\u001b[0m\u001b[1;33m\u001b[0m\u001b[0m\n\u001b[0m\u001b[0;32m      5\u001b[0m     \u001b[0ma\u001b[0m\u001b[1;33m[\u001b[0m\u001b[0mi\u001b[0m\u001b[1;33m,\u001b[0m\u001b[0mj\u001b[0m\u001b[1;33m]\u001b[0m\u001b[1;33m=\u001b[0m\u001b[0mdf\u001b[0m\u001b[1;33m[\u001b[0m\u001b[1;34m'count'\u001b[0m\u001b[1;33m]\u001b[0m\u001b[1;33m\u001b[0m\u001b[0m\n\u001b[0;32m      6\u001b[0m     \u001b[1;32mreturn\u001b[0m \u001b[0ma\u001b[0m\u001b[1;33m\u001b[0m\u001b[0m\n",
      "\u001b[1;31mMemoryError\u001b[0m: "
     ]
    }
   ],
   "source": [
    "pivotarray(rating_df)"
   ]
  },
  {
   "cell_type": "code",
   "execution_count": null,
   "metadata": {
    "collapsed": false
   },
   "outputs": [],
   "source": [
    "ratings = groupedby_interactions.as_matrix(columns=groupedby_interactions[1:])"
   ]
  },
  {
   "cell_type": "code",
   "execution_count": null,
   "metadata": {
    "collapsed": false
   },
   "outputs": [],
   "source": [
    "print(ratings)"
   ]
  },
  {
   "cell_type": "code",
   "execution_count": null,
   "metadata": {
    "collapsed": true
   },
   "outputs": [],
   "source": []
  }
 ],
 "metadata": {
  "kernelspec": {
   "display_name": "IPython (Python 3)",
   "language": "python",
   "name": "python3"
  },
  "language_info": {
   "codemirror_mode": {
    "name": "ipython",
    "version": 3
   },
   "file_extension": ".py",
   "mimetype": "text/x-python",
   "name": "python",
   "nbconvert_exporter": "python",
   "pygments_lexer": "ipython3",
   "version": "3.4.3"
  }
 },
 "nbformat": 4,
 "nbformat_minor": 0
}
