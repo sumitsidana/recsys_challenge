{
 "cells": [
  {
   "cell_type": "code",
   "execution_count": null,
   "metadata": {
    "collapsed": true
   },
   "outputs": [],
   "source": [
    "from sklearn.externals.joblib import Memory\n",
    "from sklearn.datasets import load_svmlight_file\n",
    "from sklearn.metrics.pairwise import cosine_similarity\n",
    "from sklearn.datasets import dump_svmlight_file\n",
    "import numpy as np\n",
    "import math\n",
    "mem = Memory(\"./mycache\")\n",
    "\n",
    "@mem.cache\n",
    "def get_data():\n",
    "    data = load_svmlight_file(\"/home/ama/sidana/recommendersystemchallenge//output/input.similarity\")\n",
    "    return data[0], data[1]\n",
    "\n",
    "X, y = get_data()\n",
    "\n",
    "nrows = X.shape[0]\n",
    "\n",
    "step_sizeDouble = nrows/75#convert to int\n",
    "step_size = math.floor(step_sizeDouble)\n",
    "\n",
    "count = 0\n",
    "while (count < nrows):\n",
    "    if count + step_size>nrows:\n",
    "        submatrix = X[count:nrows:1]\n",
    "        b = y[count:nrows:1]\n",
    "        similarity = cosine_similarity(submatrix,X)\n",
    "        print(\"File corresponding to row number: \"+str(nrows)+\"being written\")\n",
    "        print(similarity.shape)\n",
    "        dump_svmlight_file(similarity, b,\n",
    "                       '/home/ama/sidana/recommendersystemchallenge/output/user_similarity_'\n",
    "                       +str(nrows), zero_based=False)\n",
    "        break\n",
    "    submatrix = X[count:count+step_size:1]\n",
    "    b = y[count:count+step_size:1]\n",
    "    similarity = cosine_similarity(submatrix,X)\n",
    "    print(\"File corresponding to row number: \"+str(count)+\"being written\")\n",
    "    print(similarity.shape)\n",
    "    #b = np.zeros(similarity.shape[0])\n",
    "    dump_svmlight_file(similarity, b,\n",
    "                       '/home/ama/sidana/recommendersystemchallenge/output/user_similarity_'\n",
    "                       +str(count), zero_based=False)\n",
    "    count = count + step_size\n",
    "b = y[nrows,:]\n",
    "submatrix = X[nrows,:]\n",
    "similarity = cosine_similarity(submatrix,X)\n",
    "print(\"File corresponding to row number: \"+str(nrows+1)+\"being written\")\n",
    "print(similarity.shape)\n",
    "dump_svmlight_file(similarity, b,\n",
    "                       '/home/ama/sidana/recommendersystemchallenge/output/user_similarity_'\n",
    "                       +str(nrows+1), zero_based=False)\n",
    "print(\"done\")"
   ]
  }
 ],
 "metadata": {
  "kernelspec": {
   "display_name": "IPython (Python 3)",
   "language": "python",
   "name": "python3"
  },
  "language_info": {
   "codemirror_mode": {
    "name": "ipython",
    "version": 3
   },
   "file_extension": ".py",
   "mimetype": "text/x-python",
   "name": "python",
   "nbconvert_exporter": "python",
   "pygments_lexer": "ipython3",
   "version": "3.4.3"
  }
 },
 "nbformat": 4,
 "nbformat_minor": 0
}
